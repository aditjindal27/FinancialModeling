{
 "cells": [
  {
   "cell_type": "code",
   "execution_count": 1,
   "metadata": {
    "id": "kbKEymgzY8Ro"
   },
   "outputs": [
    {
     "name": "stderr",
     "output_type": "stream",
     "text": [
      "C:\\Users\\14703\\anaconda3\\lib\\site-packages\\scipy\\__init__.py:138: UserWarning: A NumPy version >=1.16.5 and <1.23.0 is required for this version of SciPy (detected version 1.24.2)\n",
      "  warnings.warn(f\"A NumPy version >={np_minversion} and <{np_maxversion} is required for this version of \"\n"
     ]
    }
   ],
   "source": [
    "#Adit Jindal\n",
    "import pandas as pd\n",
    "from datetime import datetime\n",
    "import numpy as np\n",
    "from scipy.optimize import fsolve, least_squares\n",
    "import math\n",
    "import matplotlib.pyplot as plt\n",
    "import plotly.express as px\n",
    "import pickle\n",
    "import scipy.stats as st\n",
    "from sklearn.linear_model import LinearRegression"
   ]
  },
  {
   "cell_type": "code",
   "execution_count": 2,
   "metadata": {
    "id": "lceISNS_nmso"
   },
   "outputs": [],
   "source": [
    "np.set_printoptions(formatter = {'float_kind':'{:f}'.format}, suppress=True)\n",
    "pd.set_option('display.float_format', lambda x: '%.8f' % x)"
   ]
  },
  {
   "cell_type": "markdown",
   "metadata": {
    "id": "ney3HjOipQcq"
   },
   "source": [
    "# Retreiving Data"
   ]
  },
  {
   "cell_type": "code",
   "execution_count": 3,
   "metadata": {
    "id": "aaIf04sdf5_4"
   },
   "outputs": [],
   "source": [
    "#Reading prices data\n",
    "price_list = pd.read_csv(\"prices_S&P.csv\")"
   ]
  },
  {
   "cell_type": "code",
   "execution_count": 4,
   "metadata": {
    "colab": {
     "base_uri": "https://localhost:8080/",
     "height": 661
    },
    "id": "t2sOLyADgC4R",
    "outputId": "5888a2eb-81ca-4fd9-c4fb-5bb6d8dcd50f"
   },
   "outputs": [
    {
     "data": {
      "text/html": [
       "<div>\n",
       "<style scoped>\n",
       "    .dataframe tbody tr th:only-of-type {\n",
       "        vertical-align: middle;\n",
       "    }\n",
       "\n",
       "    .dataframe tbody tr th {\n",
       "        vertical-align: top;\n",
       "    }\n",
       "\n",
       "    .dataframe thead th {\n",
       "        text-align: right;\n",
       "    }\n",
       "</style>\n",
       "<table border=\"1\" class=\"dataframe\">\n",
       "  <thead>\n",
       "    <tr style=\"text-align: right;\">\n",
       "      <th></th>\n",
       "      <th>Date</th>\n",
       "      <th>A</th>\n",
       "      <th>AAL</th>\n",
       "      <th>AAP</th>\n",
       "      <th>AAPL</th>\n",
       "      <th>ABBV</th>\n",
       "      <th>ABC</th>\n",
       "      <th>ABT</th>\n",
       "      <th>ACGL</th>\n",
       "      <th>ACN</th>\n",
       "      <th>...</th>\n",
       "      <th>WYNN</th>\n",
       "      <th>XEL</th>\n",
       "      <th>XOM</th>\n",
       "      <th>XRAY</th>\n",
       "      <th>XYL</th>\n",
       "      <th>YUM</th>\n",
       "      <th>ZBH</th>\n",
       "      <th>ZBRA</th>\n",
       "      <th>ZION</th>\n",
       "      <th>ZTS</th>\n",
       "    </tr>\n",
       "  </thead>\n",
       "  <tbody>\n",
       "    <tr>\n",
       "      <th>0</th>\n",
       "      <td>2022-01-03</td>\n",
       "      <td>156.48000000</td>\n",
       "      <td>18.75000000</td>\n",
       "      <td>236.78000000</td>\n",
       "      <td>182.01000000</td>\n",
       "      <td>135.42000000</td>\n",
       "      <td>132.62000000</td>\n",
       "      <td>139.04000000</td>\n",
       "      <td>44.55000000</td>\n",
       "      <td>407.21000000</td>\n",
       "      <td>...</td>\n",
       "      <td>87.77000000</td>\n",
       "      <td>67.94000000</td>\n",
       "      <td>63.54000000</td>\n",
       "      <td>56.89000000</td>\n",
       "      <td>116.89000000</td>\n",
       "      <td>136.53000000</td>\n",
       "      <td>129.13000000</td>\n",
       "      <td>583.90000000</td>\n",
       "      <td>64.24000000</td>\n",
       "      <td>234.03000000</td>\n",
       "    </tr>\n",
       "    <tr>\n",
       "      <th>1</th>\n",
       "      <td>2022-01-04</td>\n",
       "      <td>151.19000000</td>\n",
       "      <td>19.02000000</td>\n",
       "      <td>237.05000000</td>\n",
       "      <td>179.70000000</td>\n",
       "      <td>135.16000000</td>\n",
       "      <td>131.36000000</td>\n",
       "      <td>135.77000000</td>\n",
       "      <td>45.13000000</td>\n",
       "      <td>404.30000000</td>\n",
       "      <td>...</td>\n",
       "      <td>87.49000000</td>\n",
       "      <td>68.37000000</td>\n",
       "      <td>65.93000000</td>\n",
       "      <td>57.18000000</td>\n",
       "      <td>118.13000000</td>\n",
       "      <td>137.26000000</td>\n",
       "      <td>130.44000000</td>\n",
       "      <td>587.60000000</td>\n",
       "      <td>66.07000000</td>\n",
       "      <td>225.12000000</td>\n",
       "    </tr>\n",
       "    <tr>\n",
       "      <th>2</th>\n",
       "      <td>2022-01-05</td>\n",
       "      <td>148.60000000</td>\n",
       "      <td>18.68000000</td>\n",
       "      <td>236.45000000</td>\n",
       "      <td>174.92000000</td>\n",
       "      <td>135.87000000</td>\n",
       "      <td>132.50000000</td>\n",
       "      <td>135.16000000</td>\n",
       "      <td>44.60000000</td>\n",
       "      <td>397.18000000</td>\n",
       "      <td>...</td>\n",
       "      <td>84.25000000</td>\n",
       "      <td>69.04000000</td>\n",
       "      <td>66.75000000</td>\n",
       "      <td>56.26000000</td>\n",
       "      <td>116.52000000</td>\n",
       "      <td>135.52000000</td>\n",
       "      <td>130.01000000</td>\n",
       "      <td>558.18000000</td>\n",
       "      <td>66.22000000</td>\n",
       "      <td>216.56000000</td>\n",
       "    </tr>\n",
       "    <tr>\n",
       "      <th>3</th>\n",
       "      <td>2022-01-06</td>\n",
       "      <td>149.12000000</td>\n",
       "      <td>18.57000000</td>\n",
       "      <td>241.65000000</td>\n",
       "      <td>172.00000000</td>\n",
       "      <td>135.23000000</td>\n",
       "      <td>130.45000000</td>\n",
       "      <td>135.14000000</td>\n",
       "      <td>44.86000000</td>\n",
       "      <td>378.00000000</td>\n",
       "      <td>...</td>\n",
       "      <td>84.64000000</td>\n",
       "      <td>68.50000000</td>\n",
       "      <td>68.32000000</td>\n",
       "      <td>56.22000000</td>\n",
       "      <td>116.36000000</td>\n",
       "      <td>136.92000000</td>\n",
       "      <td>128.93000000</td>\n",
       "      <td>555.16000000</td>\n",
       "      <td>68.94000000</td>\n",
       "      <td>217.42000000</td>\n",
       "    </tr>\n",
       "    <tr>\n",
       "      <th>4</th>\n",
       "      <td>2022-01-07</td>\n",
       "      <td>145.15000000</td>\n",
       "      <td>19.28000000</td>\n",
       "      <td>238.09000000</td>\n",
       "      <td>172.17000000</td>\n",
       "      <td>134.88000000</td>\n",
       "      <td>133.12000000</td>\n",
       "      <td>135.56000000</td>\n",
       "      <td>45.07000000</td>\n",
       "      <td>370.75000000</td>\n",
       "      <td>...</td>\n",
       "      <td>84.55000000</td>\n",
       "      <td>69.10000000</td>\n",
       "      <td>68.88000000</td>\n",
       "      <td>56.40000000</td>\n",
       "      <td>115.43000000</td>\n",
       "      <td>135.35000000</td>\n",
       "      <td>128.15000000</td>\n",
       "      <td>530.86000000</td>\n",
       "      <td>70.09000000</td>\n",
       "      <td>211.09000000</td>\n",
       "    </tr>\n",
       "    <tr>\n",
       "      <th>...</th>\n",
       "      <td>...</td>\n",
       "      <td>...</td>\n",
       "      <td>...</td>\n",
       "      <td>...</td>\n",
       "      <td>...</td>\n",
       "      <td>...</td>\n",
       "      <td>...</td>\n",
       "      <td>...</td>\n",
       "      <td>...</td>\n",
       "      <td>...</td>\n",
       "      <td>...</td>\n",
       "      <td>...</td>\n",
       "      <td>...</td>\n",
       "      <td>...</td>\n",
       "      <td>...</td>\n",
       "      <td>...</td>\n",
       "      <td>...</td>\n",
       "      <td>...</td>\n",
       "      <td>...</td>\n",
       "      <td>...</td>\n",
       "      <td>...</td>\n",
       "    </tr>\n",
       "    <tr>\n",
       "      <th>246</th>\n",
       "      <td>2022-12-23</td>\n",
       "      <td>149.23000000</td>\n",
       "      <td>12.71000000</td>\n",
       "      <td>143.28000000</td>\n",
       "      <td>131.86000000</td>\n",
       "      <td>163.10000000</td>\n",
       "      <td>170.01000000</td>\n",
       "      <td>108.18000000</td>\n",
       "      <td>63.38000000</td>\n",
       "      <td>266.09000000</td>\n",
       "      <td>...</td>\n",
       "      <td>80.72000000</td>\n",
       "      <td>70.93000000</td>\n",
       "      <td>108.68000000</td>\n",
       "      <td>31.83000000</td>\n",
       "      <td>109.73000000</td>\n",
       "      <td>128.90000000</td>\n",
       "      <td>126.69000000</td>\n",
       "      <td>248.22000000</td>\n",
       "      <td>48.45000000</td>\n",
       "      <td>145.76000000</td>\n",
       "    </tr>\n",
       "    <tr>\n",
       "      <th>247</th>\n",
       "      <td>2022-12-27</td>\n",
       "      <td>149.55000000</td>\n",
       "      <td>12.53000000</td>\n",
       "      <td>145.02000000</td>\n",
       "      <td>130.03000000</td>\n",
       "      <td>162.99000000</td>\n",
       "      <td>169.00000000</td>\n",
       "      <td>108.57000000</td>\n",
       "      <td>63.62000000</td>\n",
       "      <td>265.31000000</td>\n",
       "      <td>...</td>\n",
       "      <td>84.33000000</td>\n",
       "      <td>71.57000000</td>\n",
       "      <td>110.19000000</td>\n",
       "      <td>32.07000000</td>\n",
       "      <td>110.72000000</td>\n",
       "      <td>129.90000000</td>\n",
       "      <td>127.28000000</td>\n",
       "      <td>251.00000000</td>\n",
       "      <td>48.84000000</td>\n",
       "      <td>145.30000000</td>\n",
       "    </tr>\n",
       "    <tr>\n",
       "      <th>248</th>\n",
       "      <td>2022-12-28</td>\n",
       "      <td>148.09000000</td>\n",
       "      <td>12.32000000</td>\n",
       "      <td>145.30000000</td>\n",
       "      <td>126.04000000</td>\n",
       "      <td>162.23000000</td>\n",
       "      <td>167.36000000</td>\n",
       "      <td>107.83000000</td>\n",
       "      <td>62.60000000</td>\n",
       "      <td>263.12000000</td>\n",
       "      <td>...</td>\n",
       "      <td>80.09000000</td>\n",
       "      <td>70.57000000</td>\n",
       "      <td>108.38000000</td>\n",
       "      <td>30.98000000</td>\n",
       "      <td>108.94000000</td>\n",
       "      <td>129.31000000</td>\n",
       "      <td>125.99000000</td>\n",
       "      <td>246.84000000</td>\n",
       "      <td>47.97000000</td>\n",
       "      <td>143.83000000</td>\n",
       "    </tr>\n",
       "    <tr>\n",
       "      <th>249</th>\n",
       "      <td>2022-12-29</td>\n",
       "      <td>151.09000000</td>\n",
       "      <td>12.70000000</td>\n",
       "      <td>146.31000000</td>\n",
       "      <td>129.61000000</td>\n",
       "      <td>162.56000000</td>\n",
       "      <td>166.05000000</td>\n",
       "      <td>110.31000000</td>\n",
       "      <td>63.11000000</td>\n",
       "      <td>268.38000000</td>\n",
       "      <td>...</td>\n",
       "      <td>81.26000000</td>\n",
       "      <td>71.07000000</td>\n",
       "      <td>109.20000000</td>\n",
       "      <td>32.28000000</td>\n",
       "      <td>111.64000000</td>\n",
       "      <td>129.99000000</td>\n",
       "      <td>127.83000000</td>\n",
       "      <td>257.53000000</td>\n",
       "      <td>49.08000000</td>\n",
       "      <td>148.15000000</td>\n",
       "    </tr>\n",
       "    <tr>\n",
       "      <th>250</th>\n",
       "      <td>2022-12-30</td>\n",
       "      <td>149.65000000</td>\n",
       "      <td>12.72000000</td>\n",
       "      <td>147.03000000</td>\n",
       "      <td>129.93000000</td>\n",
       "      <td>161.61000000</td>\n",
       "      <td>165.71000000</td>\n",
       "      <td>109.79000000</td>\n",
       "      <td>62.78000000</td>\n",
       "      <td>266.84000000</td>\n",
       "      <td>...</td>\n",
       "      <td>82.47000000</td>\n",
       "      <td>70.11000000</td>\n",
       "      <td>110.30000000</td>\n",
       "      <td>31.84000000</td>\n",
       "      <td>110.57000000</td>\n",
       "      <td>128.08000000</td>\n",
       "      <td>127.50000000</td>\n",
       "      <td>256.41000000</td>\n",
       "      <td>49.16000000</td>\n",
       "      <td>146.55000000</td>\n",
       "    </tr>\n",
       "  </tbody>\n",
       "</table>\n",
       "<p>251 rows × 505 columns</p>\n",
       "</div>"
      ],
      "text/plain": [
       "           Date            A         AAL          AAP         AAPL  \\\n",
       "0    2022-01-03 156.48000000 18.75000000 236.78000000 182.01000000   \n",
       "1    2022-01-04 151.19000000 19.02000000 237.05000000 179.70000000   \n",
       "2    2022-01-05 148.60000000 18.68000000 236.45000000 174.92000000   \n",
       "3    2022-01-06 149.12000000 18.57000000 241.65000000 172.00000000   \n",
       "4    2022-01-07 145.15000000 19.28000000 238.09000000 172.17000000   \n",
       "..          ...          ...         ...          ...          ...   \n",
       "246  2022-12-23 149.23000000 12.71000000 143.28000000 131.86000000   \n",
       "247  2022-12-27 149.55000000 12.53000000 145.02000000 130.03000000   \n",
       "248  2022-12-28 148.09000000 12.32000000 145.30000000 126.04000000   \n",
       "249  2022-12-29 151.09000000 12.70000000 146.31000000 129.61000000   \n",
       "250  2022-12-30 149.65000000 12.72000000 147.03000000 129.93000000   \n",
       "\n",
       "            ABBV          ABC          ABT        ACGL          ACN  ...  \\\n",
       "0   135.42000000 132.62000000 139.04000000 44.55000000 407.21000000  ...   \n",
       "1   135.16000000 131.36000000 135.77000000 45.13000000 404.30000000  ...   \n",
       "2   135.87000000 132.50000000 135.16000000 44.60000000 397.18000000  ...   \n",
       "3   135.23000000 130.45000000 135.14000000 44.86000000 378.00000000  ...   \n",
       "4   134.88000000 133.12000000 135.56000000 45.07000000 370.75000000  ...   \n",
       "..           ...          ...          ...         ...          ...  ...   \n",
       "246 163.10000000 170.01000000 108.18000000 63.38000000 266.09000000  ...   \n",
       "247 162.99000000 169.00000000 108.57000000 63.62000000 265.31000000  ...   \n",
       "248 162.23000000 167.36000000 107.83000000 62.60000000 263.12000000  ...   \n",
       "249 162.56000000 166.05000000 110.31000000 63.11000000 268.38000000  ...   \n",
       "250 161.61000000 165.71000000 109.79000000 62.78000000 266.84000000  ...   \n",
       "\n",
       "           WYNN         XEL          XOM        XRAY          XYL  \\\n",
       "0   87.77000000 67.94000000  63.54000000 56.89000000 116.89000000   \n",
       "1   87.49000000 68.37000000  65.93000000 57.18000000 118.13000000   \n",
       "2   84.25000000 69.04000000  66.75000000 56.26000000 116.52000000   \n",
       "3   84.64000000 68.50000000  68.32000000 56.22000000 116.36000000   \n",
       "4   84.55000000 69.10000000  68.88000000 56.40000000 115.43000000   \n",
       "..          ...         ...          ...         ...          ...   \n",
       "246 80.72000000 70.93000000 108.68000000 31.83000000 109.73000000   \n",
       "247 84.33000000 71.57000000 110.19000000 32.07000000 110.72000000   \n",
       "248 80.09000000 70.57000000 108.38000000 30.98000000 108.94000000   \n",
       "249 81.26000000 71.07000000 109.20000000 32.28000000 111.64000000   \n",
       "250 82.47000000 70.11000000 110.30000000 31.84000000 110.57000000   \n",
       "\n",
       "             YUM          ZBH         ZBRA        ZION          ZTS  \n",
       "0   136.53000000 129.13000000 583.90000000 64.24000000 234.03000000  \n",
       "1   137.26000000 130.44000000 587.60000000 66.07000000 225.12000000  \n",
       "2   135.52000000 130.01000000 558.18000000 66.22000000 216.56000000  \n",
       "3   136.92000000 128.93000000 555.16000000 68.94000000 217.42000000  \n",
       "4   135.35000000 128.15000000 530.86000000 70.09000000 211.09000000  \n",
       "..           ...          ...          ...         ...          ...  \n",
       "246 128.90000000 126.69000000 248.22000000 48.45000000 145.76000000  \n",
       "247 129.90000000 127.28000000 251.00000000 48.84000000 145.30000000  \n",
       "248 129.31000000 125.99000000 246.84000000 47.97000000 143.83000000  \n",
       "249 129.99000000 127.83000000 257.53000000 49.08000000 148.15000000  \n",
       "250 128.08000000 127.50000000 256.41000000 49.16000000 146.55000000  \n",
       "\n",
       "[251 rows x 505 columns]"
      ]
     },
     "execution_count": 4,
     "metadata": {},
     "output_type": "execute_result"
    }
   ],
   "source": [
    "price_list"
   ]
  },
  {
   "cell_type": "code",
   "execution_count": 5,
   "metadata": {
    "colab": {
     "base_uri": "https://localhost:8080/"
    },
    "id": "Rfmn90PIrG9S",
    "outputId": "327430ec-4f2a-4e29-97ad-705a0e8382dd"
   },
   "outputs": [
    {
     "data": {
      "text/plain": [
       "Date     2022-12-01\n",
       "A      156.12000000\n",
       "AAL     13.98000000\n",
       "AAP    151.30000000\n",
       "AAPL   148.31000000\n",
       "           ...     \n",
       "YUM    129.19000000\n",
       "ZBH    123.35000000\n",
       "ZBRA   268.82000000\n",
       "ZION    51.99000000\n",
       "ZTS    156.64000000\n",
       "Name: 230, Length: 505, dtype: object"
      ]
     },
     "execution_count": 5,
     "metadata": {},
     "output_type": "execute_result"
    }
   ],
   "source": [
    "#230 is price for 1st December. So we have 230 data points to make predictions \n",
    "price_list.iloc[230]"
   ]
  },
  {
   "cell_type": "markdown",
   "metadata": {
    "id": "QQO5kJL7miQb"
   },
   "source": [
    "#Midpoint method to find coefficents \n",
    "\n",
    "Equation: $g(t,y) = \\sum_{i=0}^{7}{a_i}{y(t)^i} + {y(t)}^{a_8}N(0, 1)$\n",
    "\n",
    "Time series Data: $y_{0},y_{1},..,y_{n}$ at $t_{0},t_{1},..,t_{n}$ where n = 251 days \n",
    "\n",
    "Coefficients to estimate: $a_{0},a_{1},..,a_{8}$\n",
    "\n",
    "We need number of observations, n >= 9 for estimation. However, I discover that the results are better when n gets larger. "
   ]
  },
  {
   "cell_type": "code",
   "execution_count": 6,
   "metadata": {
    "id": "9KocWEtKylY3"
   },
   "outputs": [],
   "source": [
    "#Train mdoel for a stock\n",
    "\n",
    "def train(stock, n):\n",
    "  Data_A = price_list[stock].to_list()\n",
    "  mu = np.mean(Data_A)\n",
    "  sigma = np.std(Data_A)\n",
    "  Data_A = (Data_A - mu) / sigma\n",
    "\n",
    "  #Use first n data points to form system of non-linear equations\n",
    "\n",
    "  #Midpoint Method; taking h = 1 (difference between stock price data is 1 day)\n",
    "\n",
    "  delta_y = [Data_A[230-n + i] - Data_A[230-n + i-1] for i in range(1, n)]\n",
    "  wn = np.random.normal(0,1,365)\n",
    "\n",
    "  #Using fsolve which is based on Gauss-Newton method\n",
    "  def equations(vars):\n",
    "      A = vars\n",
    "      eqs = []\n",
    "      for i in range(n-1):\n",
    "        e = 0\n",
    "        #e += A[0] + A[1] * Data_A[230-n+i-1] + A[2] * Data_A[230-n+i-1] ** 2 + A[3] * Data_A[230-n+i-1] ** 3 + A[4] * Data_A[230-n+i-1] ** 4 \n",
    "        #e += A[5] * Data_A[230-n+i-1] ** 5 + A[6] * Data_A[230-n+i-1] ** 6 + A[7] * Data_A[230-n+i-1] ** 7 \n",
    "        #e += Data_A[230-n+i-1] ** A[8] * wn[i] \n",
    "        e += A[0] * Data_A[230-n+i-1] - Data_A[230-n+i-1] ** 3\n",
    "        e += A[1] * wn[i]\n",
    "        \n",
    "        e -= delta_y[i]\n",
    "        eqs.append(e) \n",
    "      return eqs\n",
    "\n",
    "  coefficients =  fsolve(equations, [0]*(n-1))\n",
    "  return Data_A, coefficients, mu, sigma"
   ]
  },
  {
   "cell_type": "code",
   "execution_count": 7,
   "metadata": {
    "id": "wOjlLOJVr9OB"
   },
   "outputs": [],
   "source": [
    "#Using found coefficients to predict chosen stock's price at t = 230 (1st December 2022)\n",
    "def predict_Midpoint(t, Data_A, coefficients, mu, sigma):\n",
    "  y_n = Data_A[t]\n",
    "  wn = np.random.normal(0,0,365)\n",
    "\n",
    "  #Midpoint\n",
    "  dy = 0\n",
    "  #dy += coefficients[0] + coefficients[1] * Data_A[t] + coefficients[2] * Data_A[t] ** 2 + coefficients[3] * Data_A[t] ** 3 + + coefficients[4] * Data_A[t] ** 4\n",
    "  #dy += coefficients[5] * Data_A[t] ** 5 + coefficients[6] * Data_A[t] ** 6 + coefficients[7] * Data_A[t] ** 7\n",
    "  #dy += Data_A[t] ** coefficients[8] * wn[0]\n",
    "  dy += coefficients[0] * Data_A[t] - Data_A[t] ** 3\n",
    "  dy += coefficients[1] * wn[0]\n",
    "  y_i_plus_half = y_n + 0.5*(dy)\n",
    "\n",
    "  dy_2 = 0\n",
    "  #dy_2 += coefficients[0] + coefficients[1] * y_i_plus_half + coefficients[2] * y_i_plus_half ** 2 + coefficients[3] * y_i_plus_half ** 3 + + coefficients[4] * y_i_plus_half ** 4\n",
    "  #dy_2 += coefficients[5] * y_i_plus_half ** 5 + coefficients[6] * y_i_plus_half ** 6 + coefficients[7] * y_i_plus_half ** 7\n",
    "  #dy_2 += y_i_plus_half ** coefficients[8] * wn[0]\n",
    "  dy_2 += coefficients[0] * y_i_plus_half - y_i_plus_half ** 3\n",
    "  dy_2 += coefficients[1] * wn[1]\n",
    "  \n",
    "  y_predicted = y_n + 1*(dy_2)\n",
    "  y_predicted = sigma * y_predicted + mu\n",
    "  y_true = sigma * Data_A[t+1] + mu\n",
    "  error = np.abs(y_predicted-y_true) / y_true\n",
    "    \n",
    "  # print(\"Predicted stock price at t+1:\" + str(y_predicted))\n",
    "  # print(\"Actual stock price at t+1:\" + str(Data_A[230]))\n",
    "  return float(y_predicted), float(y_true), float(error)"
   ]
  },
  {
   "cell_type": "code",
   "execution_count": 8,
   "metadata": {
    "id": "yDZgh0V3Xo-D"
   },
   "outputs": [],
   "source": [
    "#Function to Run Prediction Simulation\n",
    "def run_predict(stock, t):\n",
    "  n = 50 # number of day to estimate the parametrs\n",
    "  Data_A, coefficients, mu, sigma = train(stock, n)\n",
    "  return predict_Midpoint(t, Data_A, coefficients, mu, sigma)"
   ]
  },
  {
   "cell_type": "markdown",
   "metadata": {
    "id": "2BgGq56W5Lrd"
   },
   "source": [
    "The number of parameters does not change: 8 parameters in total"
   ]
  },
  {
   "cell_type": "code",
   "execution_count": 9,
   "metadata": {
    "colab": {
     "base_uri": "https://localhost:8080/"
    },
    "id": "DwdDfrZ2IzX0",
    "outputId": "d79b9469-95a8-4fbb-d5a1-91d3cfdb319c"
   },
   "outputs": [
    {
     "name": "stdout",
     "output_type": "stream",
     "text": [
      "(142.39285052965135, 148.31, 0.03989717126524609)\n",
      "(165.31675999229333, 160.62, 0.029241439374258018)\n",
      "(142.68965096160582, 149.64, 0.04644713337606366)\n",
      "(167.04157337574443, 169.24, 0.012989994234551966)\n",
      "(142.67922786600732, 143.39, 0.004956915642601735)\n"
     ]
    },
    {
     "name": "stderr",
     "output_type": "stream",
     "text": [
      "C:\\Users\\14703\\anaconda3\\lib\\site-packages\\scipy\\optimize\\minpack.py:175: RuntimeWarning: The iteration is not making good progress, as measured by the \n",
      "  improvement from the last ten iterations.\n",
      "  warnings.warn(msg, RuntimeWarning)\n"
     ]
    }
   ],
   "source": [
    "#Apple Stock Error Graph\n",
    "print(run_predict('AAPL', 229))\n",
    "print(run_predict('AAPL', 50))\n",
    "print(run_predict('AAPL', 100))\n",
    "print(run_predict('AAPL', 150))\n",
    "print(run_predict('AAPL', 200))"
   ]
  },
  {
   "cell_type": "markdown",
   "metadata": {
    "id": "Alsxm3fMpjvL"
   },
   "source": [
    "# Run Simulation\n",
    "\n",
    "Final method to run price prediction and accuracy simulation on all stocks of the S&P 500. Method stores results in a dictionary with key as stock, and actual price for 12/01/2022, predicted price for 12/01/2022, relative  error as values."
   ]
  },
  {
   "cell_type": "code",
   "execution_count": 10,
   "metadata": {
    "id": "HZWcku15opY5"
   },
   "outputs": [],
   "source": [
    "final_outputs = {}\n",
    "stock_list = price_list.columns[1:][:]"
   ]
  },
  {
   "cell_type": "code",
   "execution_count": 11,
   "metadata": {
    "colab": {
     "base_uri": "https://localhost:8080/"
    },
    "id": "iwaoVcNegwIs",
    "outputId": "f070d268-63e8-46b5-c716-e6d3d1279710"
   },
   "outputs": [],
   "source": [
    "#For all stocks saves results tuple in final_outputs dictionary\n",
    "def run_simulation(stock_list, t):\n",
    "  for stock in stock_list:\n",
    "    final_prediction, actual, error = run_predict(stock, t)\n",
    "    #confidence_interval = confidenceInterval(results, 0.80)\n",
    "    #final_outputs[stock] = (actual, final_prediction, error, confidence_interval)\n",
    "    final_outputs[stock] = (actual, final_prediction, error)\n",
    "run_simulation(price_list.columns[1:][:], 229)"
   ]
  },
  {
   "cell_type": "code",
   "execution_count": 12,
   "metadata": {
    "colab": {
     "base_uri": "https://localhost:8080/"
    },
    "id": "Q1xJ_ErFzlxg",
    "outputId": "240b3271-239f-44df-b32d-6b79e9084e63"
   },
   "outputs": [
    {
     "name": "stdout",
     "output_type": "stream",
     "text": [
      "saved values\n"
     ]
    }
   ],
   "source": [
    "#Save results in a pickle file\n",
    "with open('results_Midpoint.pkl', 'wb') as f:\n",
    "  pickle.dump(final_outputs, f)\n",
    "  print(\"saved values\")"
   ]
  },
  {
   "cell_type": "code",
   "execution_count": 13,
   "metadata": {
    "colab": {
     "base_uri": "https://localhost:8080/"
    },
    "id": "2b_e_VQiogdc",
    "outputId": "90595644-c2ce-44d8-8004-fac6f98263dc"
   },
   "outputs": [
    {
     "data": {
      "text/plain": [
       "504"
      ]
     },
     "execution_count": 13,
     "metadata": {},
     "output_type": "execute_result"
    }
   ],
   "source": [
    "len(final_outputs)"
   ]
  },
  {
   "cell_type": "code",
   "execution_count": 14,
   "metadata": {
    "colab": {
     "base_uri": "https://localhost:8080/"
    },
    "id": "9wNLsshjz0xE",
    "outputId": "8c453576-3ea2-44c1-ff7d-6a0fccbfe244"
   },
   "outputs": [
    {
     "name": "stdout",
     "output_type": "stream",
     "text": [
      "success\n"
     ]
    },
    {
     "data": {
      "text/plain": [
       "504"
      ]
     },
     "execution_count": 14,
     "metadata": {},
     "output_type": "execute_result"
    }
   ],
   "source": [
    "#Load results from pickle file\n",
    "with open('results_Midpoint.pkl', 'rb') as f:\n",
    "  results_Midpoint = pickle.load(f)\n",
    "  print(\"success\")\n",
    "len(results_Midpoint)"
   ]
  },
  {
   "cell_type": "markdown",
   "metadata": {
    "id": "u3YrgmnrrFKX"
   },
   "source": [
    "## Visualize S&P 500: Real and Predicted values\n",
    "\n",
    "1. The first graph shows the real vs predicted values for n stocks from the S&P 500\n",
    "2. The second graph shows the real vs predicted equally weigthed average price of the index, along with relative error"
   ]
  },
  {
   "cell_type": "code",
   "execution_count": 15,
   "metadata": {
    "colab": {
     "base_uri": "https://localhost:8080/",
     "height": 1000
    },
    "id": "6PgttzV-7gE1",
    "outputId": "69a5e687-4dc4-4fac-a17d-350ae8821e07"
   },
   "outputs": [
    {
     "data": {
      "image/png": "[encoded data removed]",
      "text/plain": [
       "<Figure size 720x1008 with 2 Axes>"
      ]
     },
     "metadata": {
      "needs_background": "light"
     },
     "output_type": "display_data"
    }
   ],
   "source": [
    "def stock_price_graph(results, n):\n",
    "\n",
    "  ind = np.arange(n)\n",
    "  x = np.array(list(results.keys())[:n])\n",
    "  y_true = np.array([a[0] for a in list(results.values())[:n]])\n",
    "  y_pred = np.array([a[1] for a in list(results.values())[:n]])\n",
    "\n",
    "  fig, ax = plt.subplots(2, 1, figsize=(10, 14))\n",
    "  ax[0].bar(ind, y_true, 0.3, color='black', label='Actual')\n",
    "  ax[0].bar(ind+0.3, y_pred, 0.3, color='grey', label='Predicted')\n",
    "\n",
    "  ax[0].set_xticks(ind + 0.3 / 2, x)\n",
    "\n",
    "  ax[0].set_xlabel('Stock')\n",
    "  ax[0].set_ylabel('Price')\n",
    "  ax[0].legend(loc='upper right', ncols=2)\n",
    "  plt.setp(ax[0].get_xticklabels(), rotation=50, horizontalalignment='center')\n",
    "  plt.setp(ax[1].get_xticklabels(), rotation=50, horizontalalignment='center')\n",
    "  font1 = {'color':'black','size':10}\n",
    "  ax[0].set_title(\"REAL VS PREDICTED PRICE FOR 20 STOCKS\", fontdict = font1)\n",
    "\n",
    "\n",
    "  ax[1].set_xticks(ind + 0.3 / 2, x)\n",
    "  ax[1].bar(ind, y_pred/y_true, 0.3, color='grey', label='Midpoint Method')\n",
    "  ax[1].set_ylim(ymax = 1.2, ymin = 0.9) \n",
    "  ax[1].set_xlabel('Stock')\n",
    "  ax[1].set_ylabel('Relative Price')\n",
    "  ax[1].legend(loc='upper right', ncols=2)\n",
    "  ax[1].axhline(1, color='red', label = \"Base Price\", linestyle='--')\n",
    "  ax[1].legend(loc = 'upper right')\n",
    "  ax[1].set_title(\"Midpoint Method: Relative Price for 20 stocks\", fontdict = font1)\n",
    "\n",
    "  plt.show()\n",
    "\n",
    "stock_price_graph(results_Midpoint, 20)"
   ]
  },
  {
   "cell_type": "code",
   "execution_count": 16,
   "metadata": {
    "colab": {
     "base_uri": "https://localhost:8080/",
     "height": 500
    },
    "id": "9FSOJYhkLdjV",
    "outputId": "095f1cf1-6382-45d9-cf4e-23cbf8f711a4"
   },
   "outputs": [
    {
     "data": {
      "image/png": "[encoded data removed]",
      "text/plain": [
       "<Figure size 432x288 with 1 Axes>"
      ]
     },
     "metadata": {
      "needs_background": "light"
     },
     "output_type": "display_data"
    }
   ],
   "source": [
    "def average_price_graph(results_loaded):\n",
    "\n",
    "  #Average S&P 500 Error\n",
    "  errors = [a[2] for a in list(results_loaded.values())]\n",
    "  y_true = [a[0] for a in list(results_loaded.values())]\n",
    "  y_pred = [a[1] for a in list(results_loaded.values())]\n",
    "\n",
    "  Error = round(np.mean(errors),2)\n",
    "  SPReal = round(np.mean(y_true), 2)\n",
    "  SPPredicted = round(np.mean(y_pred), 2)\n",
    "  SPError = round(abs((SPReal-SPPredicted)*100/SPReal), 2)\n",
    "\n",
    "  ind = np.arange(2)\n",
    "  fig, ax = plt.subplots()\n",
    "  plt.ylim(top=250)\n",
    "  bars = ax.bar(ind, [SPReal, SPPredicted], width = 0.4)\n",
    "  plt.xticks(ind, [\"ACTUAL\", \"PREDICTED\"])\n",
    "  ax.bar_label(bars) \n",
    "\n",
    "  ax.set_xlabel('TYPE')\n",
    "  ax.set_ylabel('Price')\n",
    "  plt.text(1.4, 5, 'Average Error:%s'%(Error)+\"%\" + '\\n\\nError in S&P:%s'%(SPError)+\"%\", fontsize = 9)\n",
    "  plt.setp(ax.get_xticklabels(), rotation=50, horizontalalignment='center')\n",
    "  plt.tight_layout()\n",
    "\n",
    "  font1 = {'color':'black','size':10}\n",
    "\n",
    "\n",
    "  plt.title(\"S&P 500 REAL VS PREDICTED AVG PRICE\", fontdict = font1)\n",
    "  plt.show()\n",
    "\n",
    "average_price_graph(results_Midpoint)"
   ]
  },
  {
   "cell_type": "markdown",
   "metadata": {
    "id": "kS-1-7wLn7ma"
   },
   "source": [
    "# Comparison with linear regression\n",
    "\n",
    "## Choosing appropriate number of data points, n\n",
    "Here, we compare the average error of our model to a baseline model based on linear regression using past n data points to predict stock prices on 12/1/2022.\n",
    "\n",
    "1. First plot is between errors in prediction vs n\n",
    "2. Second plot shows predicted prices for different n as well as the actual price for the stock"
   ]
  },
  {
   "cell_type": "code",
   "execution_count": 17,
   "metadata": {
    "colab": {
     "base_uri": "https://localhost:8080/",
     "height": 780
    },
    "id": "8MGcgumxpEBY",
    "outputId": "0d1895bf-80e3-44e9-fa12-223670274be5"
   },
   "outputs": [
    {
     "name": "stderr",
     "output_type": "stream",
     "text": [
      "C:\\Users\\14703\\anaconda3\\lib\\site-packages\\sklearn\\metrics\\_regression.py:682: UndefinedMetricWarning: R^2 score is not well-defined with less than two samples.\n",
      "  warnings.warn(msg, UndefinedMetricWarning)\n"
     ]
    },
    {
     "data": {
      "image/png": "[encoded data removed]",
      "text/plain": [
       "<Figure size 576x576 with 2 Axes>"
      ]
     },
     "metadata": {
      "needs_background": "light"
     },
     "output_type": "display_data"
    }
   ],
   "source": [
    "#Using Sklearn Linear Regression Model using past n data point \n",
    "def linearRegressionPredictor(stock, n):\n",
    "  data = price_list[stock].to_list()\n",
    "  X = np.arange(n).reshape(-1, 1)\n",
    "  y = [data[230 - n + i] for i in range(n)]\n",
    "  reg = LinearRegression().fit(X, y)\n",
    "  score = reg.score(X, y)\n",
    "  prediction = round(reg.predict(np.array([n]).reshape(-1, 1))[0], 2)\n",
    "  actual = price_list[stock].to_list()[230]\n",
    "  error = abs((prediction - actual)*100/actual)\n",
    "  return prediction, error, score\n",
    "\n",
    "\n",
    "def linearRegressionErrorGraph(stock):\n",
    "\n",
    "  x = np.arange(1, 230)\n",
    "  price_results = []\n",
    "  error_results = []\n",
    "  score_results = []\n",
    "  for i in range(1, 230):\n",
    "    prediction, error, score = linearRegressionPredictor(stock, i)\n",
    "    price_results.append(prediction)\n",
    "    error_results.append(error)\n",
    "    score_results.append(score)\n",
    "\n",
    "\n",
    "  real_price = price_list[stock].to_list()[230]\n",
    "  fig, ax = plt.subplots(2, 1, figsize=(8, 8))\n",
    "  ax[0].plot(x, error_results)\n",
    "  ax[1].plot(x, price_results)\n",
    "\n",
    "\n",
    "  ax[0].set_xlabel('Number of Data Points Used')\n",
    "  ax[0].set_ylabel('Error')\n",
    "  font1 = {'color':'black','size':10}\n",
    "  ax[0].set_title(\"Linear Regression for %s\" %(stock) + \" Stock\" + \": Error vs N\", fontdict = font1)\n",
    "\n",
    "  ax[1].set_xlabel('Number of Data Points Used')\n",
    "  ax[1].set_ylabel('Predicted Price')\n",
    "  font1 = {'color':'black','size':10}\n",
    "  ax[1].set_title(\"Linear Regression for %s\" %(stock) + \" Stock:\" + \" Predicted Price for 12/1/2022 vs N\", fontdict = font1)\n",
    "  ax[1].axhline(real_price, 0, 230, color='red', label = \"Actual Price %s\" %(real_price))\n",
    "  ax[1].legend(loc = 'upper right')\n",
    "\n",
    "  fig.tight_layout(pad=4.0)\n",
    "  plt.show()\n",
    "\n",
    "  return price_results, error_results, score_results\n",
    "\n",
    "price_results, error_results, score_results = linearRegressionErrorGraph(\"AAPL\")"
   ]
  },
  {
   "cell_type": "markdown",
   "metadata": {
    "id": "_BBgvCObX1yF"
   },
   "source": [
    "## Comparison Graphs\n",
    "\n",
    "We notice that with greater number of data points, error is increasing due to overfitting. Thus, we decide to stick to n = 10 data points in line with Midpoint's method where we use 0 < M & N < 10.\n",
    "\n",
    "1. We plot stock price graphs showing linear regression price and Midpoint's method predicted price. The scale is chosen as relative by dividing the price by the actual price of the stock.\n",
    "\n",
    "2. We plot the price of an equally weighted S&P 500 portfolio and report the errors.\n"
   ]
  },
  {
   "cell_type": "code",
   "execution_count": 18,
   "metadata": {
    "id": "y6fwV2s3aoRw"
   },
   "outputs": [],
   "source": [
    "results_LR = {}\n",
    "def linearRegressionResults(n):\n",
    "  for stock in stock_list:\n",
    "    results_LR[stock] = linearRegressionPredictor(stock, n)\n",
    "\n",
    "linearRegressionResults(10)"
   ]
  },
  {
   "cell_type": "code",
   "execution_count": 19,
   "metadata": {
    "colab": {
     "base_uri": "https://localhost:8080/"
    },
    "id": "GeGr4ntYbV_v",
    "outputId": "3df7800b-dda0-4a58-f435-743d012d5d50"
   },
   "outputs": [
    {
     "name": "stdout",
     "output_type": "stream",
     "text": [
      "saved values\n"
     ]
    }
   ],
   "source": [
    "#Save results in a pickle file\n",
    "with open('results_LR.pkl', 'wb') as f:\n",
    "  pickle.dump(results_LR, f)\n",
    "  print(\"saved values\")"
   ]
  },
  {
   "cell_type": "code",
   "execution_count": 20,
   "metadata": {
    "colab": {
     "base_uri": "https://localhost:8080/"
    },
    "id": "z8XmjhRGbZud",
    "outputId": "845f490f-fdb2-4c11-8899-5663ed5843dd"
   },
   "outputs": [
    {
     "name": "stdout",
     "output_type": "stream",
     "text": [
      "success\n"
     ]
    },
    {
     "data": {
      "text/plain": [
       "504"
      ]
     },
     "execution_count": 20,
     "metadata": {},
     "output_type": "execute_result"
    }
   ],
   "source": [
    "#Load results from pickle file\n",
    "with open('results_LR.pkl', 'rb') as f:\n",
    "  results_LR = pickle.load(f)\n",
    "  print(\"success\")\n",
    "len(results_LR)"
   ]
  },
  {
   "cell_type": "code",
   "execution_count": 21,
   "metadata": {
    "colab": {
     "base_uri": "https://localhost:8080/",
     "height": 586
    },
    "id": "LjZE2oF3Ymm8",
    "outputId": "89b30c84-ff04-4a43-83ca-fb15fdc436af"
   },
   "outputs": [
    {
     "data": {
      "image/png": "[encoded data removed]",
      "text/plain": [
       "<Figure size 720x432 with 1 Axes>"
      ]
     },
     "metadata": {
      "needs_background": "light"
     },
     "output_type": "display_data"
    }
   ],
   "source": [
    "def stock_price_graph(results_Midpoint, results_LR, n):\n",
    "\n",
    "  ind = np.arange(n)\n",
    "  x = np.array(list(results_Midpoint.keys())[:n])\n",
    "  y_true = np.array([a[0] for a in list(results_Midpoint.values())[:n]])\n",
    "  y_pred_Midpoint = np.array([a[1] for a in list(results_Midpoint.values())[:n]]) / y_true\n",
    "  y_pred_LR = np.array([a[0] for a in list(results_LR.values())[:n]]) / y_true\n",
    "\n",
    "  y_true =  np.array([1 for i in range(n)])\n",
    "\n",
    "  fig, ax = plt.subplots(figsize=(10, 6))\n",
    "  # ax.bar(ind, y_true, 0.3, color='grey', label='Actual')\n",
    "  ax.bar(ind, y_pred_LR, 0.3, color='black', label='Linear Regression')\n",
    "  ax.bar(ind+0.3, y_pred_Midpoint, 0.3, color='grey', label='Midpoint')\n",
    "\n",
    "\n",
    "  plt.ylim(ymax = 1.2, ymin = 0.9) \n",
    "  plt.xticks(ind + 0.3 / 2, x)\n",
    "\n",
    "  ax.set_xlabel('Stock')\n",
    "  ax.set_ylabel('Relative Price')\n",
    "  ax.legend(loc='upper right', ncols=2)\n",
    "\n",
    "  ax.axhline(1, color='red', label = \"Base Price\", linestyle='--')\n",
    "  ax.legend(loc = 'upper right')\n",
    "\n",
    "  plt.setp(ax.get_xticklabels(), rotation=50, horizontalalignment='center')\n",
    "\n",
    "  font1 = {'color':'black','size':10}\n",
    "  plt.title(\"Midpoint vs Linear Regression: Relative Price for 20 stocks\", fontdict = font1)\n",
    "\n",
    "  plt.show()\n",
    "\n",
    "stock_price_graph(results_Midpoint, results_LR, 20)"
   ]
  },
  {
   "cell_type": "code",
   "execution_count": 22,
   "metadata": {
    "colab": {
     "base_uri": "https://localhost:8080/",
     "height": 469
    },
    "id": "_qw7JwYZY9oi",
    "outputId": "ce2fe33c-1453-4aad-c2b1-6ba323777d82"
   },
   "outputs": [
    {
     "data": {
      "image/png": "[encoded data removed]",
      "text/plain": [
       "<Figure size 432x288 with 1 Axes>"
      ]
     },
     "metadata": {
      "needs_background": "light"
     },
     "output_type": "display_data"
    }
   ],
   "source": [
    "def average_price_graph(results_Midpoint, results_LR):\n",
    "\n",
    "  #Average S&P 500 Error\n",
    "  errors_Midpoint = [a[2] for a in list(results_Midpoint.values())]\n",
    "  y_true = [a[0] for a in list(results_Midpoint.values())]\n",
    "  y_Midpoint = [a[1] for a in list(results_Midpoint.values())]\n",
    "  y_lr = [a[0] for a in list(results_LR.values())]\n",
    "  errors_LR = [a[1] for a in list(results_LR.values())]\n",
    "\n",
    "  Error_Midpoint = round(np.mean(errors_Midpoint),2)\n",
    "  Error_LR = round(np.mean(errors_LR),2)\n",
    "\n",
    "  SPReal = round(np.mean(y_true), 2)\n",
    "  SPMidpoint = round(np.mean(y_Midpoint), 2)\n",
    "  SPLR = round(np.mean(y_lr), 2)\n",
    "\n",
    "  SPErrorMidpoint = round(abs((SPReal-SPMidpoint)*100/SPReal), 2)\n",
    "  SPErrorLR = round(abs((SPReal-SPLR)*100/SPReal), 2)\n",
    "\n",
    "  ind = np.arange(3)\n",
    "  fig, ax = plt.subplots()\n",
    "  plt.ylim(top=250)\n",
    "  bars = ax.bar(ind, [SPReal, SPMidpoint, SPLR], width = 0.4)\n",
    "  plt.xticks(ind, [\"ACTUAL\", \"Midpoint\", \"LINEAR REGRESSION\"])\n",
    "  ax.bar_label(bars) \n",
    "\n",
    "  ax.set_xlabel('Model')\n",
    "  ax.set_ylabel('Price')\n",
    "  plt.text(2.5, 5, 'S&P Error\\nMidpoint:%s'%(SPErrorMidpoint)+\"%  \" + 'LR:%s'%(SPErrorLR)+\"%\" + '\\n\\nAverage Error\\nMidpoint:%s'%(Error_Midpoint)+\"%  \" + 'LR:%s'%(Error_LR)+\"%\", fontsize = 9)\n",
    "  # plt.tight_layout()\n",
    "\n",
    "  font1 = {'color':'black','size':10}\n",
    "\n",
    "\n",
    "  plt.title(\"S&P 500 REAL VS Midpoint VS LR AVERAGE PRICE\", fontdict = font1)\n",
    "  plt.show()\n",
    "\n",
    "average_price_graph(results_Midpoint, results_LR)"
   ]
  },
  {
   "cell_type": "code",
   "execution_count": null,
   "metadata": {},
   "outputs": [],
   "source": []
  },
  {
   "cell_type": "code",
   "execution_count": null,
   "metadata": {},
   "outputs": [],
   "source": []
  },
  {
   "cell_type": "code",
   "execution_count": null,
   "metadata": {},
   "outputs": [],
   "source": []
  }
 ],
 "metadata": {
  "colab": {
   "provenance": []
  },
  "kernelspec": {
   "display_name": "Python 3",
   "language": "python",
   "name": "python3"
  },
  "language_info": {
   "codemirror_mode": {
    "name": "ipython",
    "version": 3
   },
   "file_extension": ".py",
   "mimetype": "text/x-python",
   "name": "python",
   "nbconvert_exporter": "python",
   "pygments_lexer": "ipython3",
   "version": "3.8.8"
  }
 },
 "nbformat": 4,
 "nbformat_minor": 1
}
